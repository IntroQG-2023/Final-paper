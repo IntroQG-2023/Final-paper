{
 "cells": [
  {
   "cell_type": "markdown",
   "metadata": {
    "user_expressions": []
   },
   "source": [
    "# Title\n",
    "\n",
    "## Name\n",
    "## January XX, 2024"
   ]
  },
  {
   "cell_type": "markdown",
   "metadata": {
    "user_expressions": []
   },
   "source": [
    "## Final paper instructions (DELETE THIS CELL BEFORE SUBMITTING)\n",
    "\n",
    "The final task for the course is to write a formal scientific paper about the results of Exercises 6 and 7.\n",
    "\n",
    "- The report should not be longer than **2000-2500 words**, not including the code cells and references.\n",
    "- All instruction text (in italics) other than headings in the cells below can be deleted before you submit your final version\n",
    "- Please keep the main headings used in this document, but feel free to add code cells (or other Markdown cells) as needed to produce the plots you would like to include in your document.\n",
    "    - I suggest you copy your `introqg_functions.py` script from Exercise 7 to this repository. That way you can then insert code cells as needed to be able to call any functions you might want in order to produce plots and/or tables (DataFrames in pandas).\n",
    "        - Alternatively, you can also include images using the normal Markdown format.\n",
    "- **AI-LLM-OK** - Use of AI large language models, such as ChatGPT, is OK for this assignment. Details can be found below under the heading \"**Use of AI-LLM tools in this exercise**\".\n",
    "    - You can find a short introduction on how to use ChatGPT for programming in Python on the [Geo-Python course website](https://geo-python-site.readthedocs.io/en/latest/notebooks/L4/use-of-ai.html).\n",
    "- **The final paper is due by 17:00 on 12.1.2024**\n",
    "- Grading for the paper is described in the [grading rubric](https://introqg-site.readthedocs.io/en/latest/_static/docs/IntroQG_final_project_grade_table.pdf).\n",
    "\n",
    "Of course, figures from other articles are welcome to be included in your paper. An example figure is below.\n",
    "\n",
    "![A wolverine](img/wolverine.jpg)<br/>\n",
    "*Figure 1. A wolverine pondering what to eat next. You might think to include a more relevant figure*.\n",
    "\n",
    "Also, when referencing an article I am not strict on the formatting, but here is an example.\n",
    "We can use Dodson's equation (Dodson, 1973) to calculate thermochronometer ages.\n",
    "You can find the reference information below.\n",
    "\n",
    "### Use of AI-LLM tools for this assignment\n",
    "\n",
    "The use of artificial intelligence large language model (AI-LLM) tools (e.g., ChatGPT) is allowed in this exercise. If you choose to use such tools, you must also:\n",
    "\n",
    "1. Clearly acknowledge which tool(s) and versions of such tools were utilized to complete the exercise in a section of your notebook titled \"**Acknowledgements**\".\n",
    "2. Describe how the tool(s) was/were used to complete the exercise in a subsection of the Methods titled **Use of AI tools** with enough detail that your results could be reproduced. For example, this would include:\n",
    "    - Explaining how the tools have been used in general terms, such as descibing whether they have been used to generate draft text explaining what you have done for the exercise or to produce code you have used.\n",
    "    - Listing all prompts that were used to produce code for any sections where code has been generated using an AI tool. The code that was produced (only the final code is needed if multiple prompts were used) should be provided in the Appendix as either a code block or link.\n",
    "        - Please also note if the generated code was modified by you and how.\n",
    "\n",
    "Failure to acknowledge or describe your use of AI tools in this assignment (if used) is considered cheating and will be handled accordingly. Also, please be aware that although an AI tool may have been used to produce parts of your exercise, you are responsible for the results that are produced."
   ]
  },
  {
   "cell_type": "markdown",
   "metadata": {},
   "source": [
    "## Abstract\n",
    "\n",
    "*A summary of the exercise and your results not longer than 250 words*.\n",
    "\n"
   ]
  },
  {
   "cell_type": "markdown",
   "metadata": {},
   "source": [
    "## Introduction\n",
    "\n",
    "- *2-4 paragraphs in length*\n",
    "- *Clearly state the problem you are addressing (or hypothesis being tested) and it’s significance. This should be at least 1 paragraph long*.\n",
    "- *Provide background information on the topic (e.g., from lecture notes and other sources including the reference papers below). This should be at least 1 paragraph long*.\n",
    "- *Provide 1 short paragraph about how this exercise contributes to understanding the stated problem*.\n",
    "\n"
   ]
  },
  {
   "cell_type": "markdown",
   "metadata": {},
   "source": [
    "## Geological background\n",
    "\n",
    "- *1-3 paragraphs in length*\n",
    "- *Include a general overview of the main features of the study region, such as the major faults, rock units, variations in rainfall, etc*.\n",
    "- *The goal here is to provide enough information to understand the main “drivers” of uplift and erosion of the thermochronometer data you’re studying*.\n",
    "\n"
   ]
  },
  {
   "cell_type": "markdown",
   "metadata": {
    "user_expressions": []
   },
   "source": [
    "## Methods\n",
    "\n",
    "\n",
    "- *Clearly state the different methods used for each part of the exercise*.\n",
    "- *For example, what equations are you solving in each part of the report, what are the variables or free parameters in each equation, how did you calculate the solution. Most probably you will want to have one paragraph to describe the thermal model and another to describe how thermochronometer ages are calculated*.\n",
    "\n"
   ]
  },
  {
   "cell_type": "markdown",
   "metadata": {
    "user_expressions": []
   },
   "source": [
    "### Use of AI tools (optional)\n",
    "\n",
    "\n",
    "- *Optional subsection of Methods*.\n",
    "- *Describe how the any AI tool(s) was/were used to complete this assignment here with enough detail that your results could be reproduced. This could include*:\n",
    "    - *Explaining how the tools have been used in general terms, such as descibing whether they have been used to generate draft text explaining what you have done for the exercise or to produce code you have used*.\n",
    "    - *Listing all prompts that were used to produce code for any sections where code has been generated using an AI tool. The code that was produced (only the final code is needed if multiple prompts were used) should be provided in the Appendix as either a code block or link*.\n",
    "        - *Please also note if the generated code was modified by you and how*.\n",
    "\n"
   ]
  },
  {
   "cell_type": "markdown",
   "metadata": {},
   "source": [
    "## Results\n",
    "\n",
    "- *At least 1 paragraph in length*.\n",
    "- *This part describes the results from your experiments (such as the exhumation rate that provide a minimum goodness-of-fit to the data). Include selected figures from Exercises 6 and 7. You should provide figure captions and at least 1 paragraph of text that describes each figure*.\n",
    "- **NOTE**: *The results section should only contain observations that resulted from your experiment. No interpretations of the results should be included in this section*.\n",
    "\n"
   ]
  },
  {
   "cell_type": "markdown",
   "metadata": {},
   "source": [
    "## Discussion\n",
    "\n",
    "- *Several paragraphs in length*.\n",
    "- *This part of the report discusses your results. It can have multiple subsections if you desire. Any interpretation you make from your plots/calculations should be presented here*.\n",
    "- *Example discussion section topics include*:\n",
    "    - *How do the exhumation rates that provide a minimum misfit to the different thermochronometer age systems vary*?\n",
    "    - *How well do the model predictions compare to the measured ages*?\n",
    "    - *What are the limitations of the modeling approach and how do they affect the results*?\n",
    "    - *What are the implications of your results for the problem/hypothesis you stated in the introduction*?\n",
    "    - *Have you sufficiently tested your hypothesis or are more experiments needed*?\n",
    "    - *Any other topics you feel should be discussed about the implications of the model results*.\n",
    "\n"
   ]
  },
  {
   "cell_type": "markdown",
   "metadata": {
    "user_expressions": []
   },
   "source": [
    "## Conclusions/Summary\n",
    "\n",
    "- *1-2 paragraphs in length*.\n",
    "- *This should summarize the main findings of your exercise*.\n",
    "\n"
   ]
  },
  {
   "cell_type": "markdown",
   "metadata": {
    "user_expressions": []
   },
   "source": [
    "## Acknowledgements (optional)\n",
    "\n",
    "- *Optional and a few sentences in length*.\n",
    "- *If you have used an AI large language model (e.g., ChatGPT) for this assignment you should acknowledge which tool and version of the tool was used in this section*.\n",
    "\n"
   ]
  },
  {
   "cell_type": "markdown",
   "metadata": {},
   "source": [
    "## References\n",
    "\n",
    "- *Include a list of cited references from your report. This list should include at least 5 primary sources*.\n",
    "    - *The [list of articles on the course page](https://introqg-site.readthedocs.io/en/latest/final-paper/template.html) is a good place to start*.\n",
    "\n",
    "Example reference:\n",
    "\n",
    "Dodson, M.H., 1973. Closure temperature in cooling geochronological and petrological systems. Contributions to Mineralogy and Petrology, 40(3), pp.259-274."
   ]
  },
  {
   "cell_type": "markdown",
   "metadata": {
    "user_expressions": []
   },
   "source": [
    "## Appendix\n",
    "\n",
    "- *Include either a link to your `introqg_functions.py` script file here or copy/paste its contents into the Python cell below*.\n",
    "    - *It would be helpful to include a short summary of the functions you have used that are included in the script file and what they can be used to calculate*.\n",
    "- *If you have used an AI large language model, also include either a link to a script file containing any code generated by an AI-LLM tool or copy/paste that code into another code cell below*.\n"
   ]
  },
  {
   "cell_type": "code",
   "execution_count": null,
   "metadata": {},
   "outputs": [],
   "source": []
  }
 ],
 "metadata": {
  "kernelspec": {
   "display_name": "Python 3 (ipykernel)",
   "language": "python",
   "name": "python3"
  },
  "language_info": {
   "codemirror_mode": {
    "name": "ipython",
    "version": 3
   },
   "file_extension": ".py",
   "mimetype": "text/x-python",
   "name": "python",
   "nbconvert_exporter": "python",
   "pygments_lexer": "ipython3",
   "version": "3.10.13"
  }
 },
 "nbformat": 4,
 "nbformat_minor": 4
}
